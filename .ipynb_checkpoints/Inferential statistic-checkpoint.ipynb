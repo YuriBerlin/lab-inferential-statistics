{
 "cells": [
  {
   "cell_type": "code",
   "execution_count": null,
   "id": "99ffa70d",
   "metadata": {},
   "outputs": [],
   "source": [
    "### Instructions\n",
    "\n",
    "### 1. It is assumed that the mean systolic blood pressure is `μ = 120 mm Hg`. \n",
    "### In the Honolulu Heart Study, a sample of `n = 100` people \n",
    "### had an average systolic blood pressure of 130.1 mm Hg with a standard deviation of 21.21 mm Hg. \n",
    "### Is the group significantly different (with respect to systolic blood pressure!) from the regular population?\n",
    "\n",
    " ###  - Set up the hypothesis test.\n",
    " ###  - Write down all the steps followed for setting up the test.\n",
    " ###  - Calculate the test statistic by hand and also code it in Python. It should be 4.76190. We will take a look at how to make decisions based on this calculated value."
   ]
  },
  {
   "cell_type": "code",
   "execution_count": null,
   "id": "a15477db",
   "metadata": {},
   "outputs": [],
   "source": [
    "### 1.There is no standard deviation for the population provided,\n",
    "### so we have to use t-test\n",
    "\n",
    "### 2.Null Hypothesis - Honolulu Heart Study has same systolic blood pressure as regular population μ = 120 mm Hg,\n",
    "### Alternative Hypothesis -  Honolulu Heart Study has systolic blood pressure different from regular population μ != 120 mm Hg.\n",
    "\n",
    "### 3. Alpha - 0.05\n",
    "\n",
    "### 4. Degrees of freedom - n-1 = 99\n",
    "\n",
    "### 5. Defining critical values: -1.984 - 1.984\n",
    "### If t is less than -1.984 or greater than 1.984, reject the null hypothysis\n",
    "\n",
    "### 6. Calculating t = (130.1 - 120)/(21.21/10)\n",
    "### t = 4.76 -> we can reject the Null-hypothysis\n",
    "\n",
    "### 7. Conclusion -Honolulu Heart Study group is significantly different with respect to systolic blood pressure from the regular population\n"
   ]
  },
  {
   "cell_type": "code",
   "execution_count": 1,
   "id": "ee472136",
   "metadata": {},
   "outputs": [],
   "source": [
    "import math\n",
    "import pandas as pd\n",
    "import numpy as np\n",
    "import matplotlib.pyplot as plt\n",
    "import scipy.stats as st"
   ]
  },
  {
   "cell_type": "code",
   "execution_count": 2,
   "id": "fdcfd98c",
   "metadata": {},
   "outputs": [
    {
     "data": {
      "text/plain": [
       "4.761904761904759"
      ]
     },
     "execution_count": 2,
     "metadata": {},
     "output_type": "execute_result"
    }
   ],
   "source": [
    "sample_mean = 130.1 \n",
    "pop_mean = 120 #mu\n",
    "sample_std = 21.21\n",
    "n = 100 #sample size\n",
    "\n",
    "stat = (sample_mean - pop_mean)/(sample_std/np.sqrt(n))\n",
    "stat"
   ]
  },
  {
   "cell_type": "code",
   "execution_count": 4,
   "id": "54ac8a5d",
   "metadata": {},
   "outputs": [
    {
     "data": {
      "text/plain": [
       "6.562701817208617e-06"
      ]
     },
     "execution_count": 4,
     "metadata": {},
     "output_type": "execute_result"
    }
   ],
   "source": [
    "p_value = st.t.sf(abs(stat), n-1)*2\n",
    "p_value"
   ]
  }
 ],
 "metadata": {
  "kernelspec": {
   "display_name": "Python 3 (ipykernel)",
   "language": "python",
   "name": "python3"
  },
  "language_info": {
   "codemirror_mode": {
    "name": "ipython",
    "version": 3
   },
   "file_extension": ".py",
   "mimetype": "text/x-python",
   "name": "python",
   "nbconvert_exporter": "python",
   "pygments_lexer": "ipython3",
   "version": "3.11.5"
  }
 },
 "nbformat": 4,
 "nbformat_minor": 5
}
